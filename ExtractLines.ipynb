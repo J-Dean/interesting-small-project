{
 "cells": [
  {
   "cell_type": "code",
   "execution_count": 28,
   "metadata": {},
   "outputs": [],
   "source": [
    "filename = 'sketch.txt'\n",
    "han = open('han.txt','w')\n",
    "pan = open('pan.txt','w')\n",
    "chen = open('chen.txt','w')\n",
    "guo = open('guo.txt','w')\n",
    "hai = open('hai.txt','w')\n",
    "ye = open('ye.txt','w')"
   ]
  },
  {
   "cell_type": "code",
   "execution_count": 29,
   "metadata": {},
   "outputs": [],
   "source": [
    "with open(filename) as file_object:\n",
    "    lines = file_object.readlines()"
   ]
  },
  {
   "cell_type": "code",
   "execution_count": 30,
   "metadata": {
    "scrolled": false
   },
   "outputs": [],
   "source": [
    "for line in lines:\n",
    "    (role,line_spoken) = line.split('：',1)\n",
    "    line_spoken=line_spoken.strip()\n",
    "    if(role == '韩兆'):\n",
    "        han.write('韩兆：'+line_spoken+'\\n\\n')\n",
    "    elif(role == '潘长江'):\n",
    "        pan.write('潘长江：'+line_spoken+'\\n\\n')\n",
    "    elif(role=='陈嘉男'):\n",
    "        chen.write('陈嘉男：'+line_spoken+'\\n\\n')\n",
    "    elif(role == '郭德纲'):\n",
    "        guo.write('郭德纲：'+line_spoken+'\\n\\n')\n",
    "    elif(role == '小孩'):\n",
    "        hai.write('小孩：'+line_spoken+'\\n\\n')\n",
    "    else:\n",
    "        ye.write('爸：'+line_spoken+'\\n\\n')\n",
    "    pass"
   ]
  },
  {
   "cell_type": "code",
   "execution_count": null,
   "metadata": {},
   "outputs": [],
   "source": []
  }
 ],
 "metadata": {
  "kernelspec": {
   "display_name": "Python 3",
   "language": "python",
   "name": "python3"
  },
  "language_info": {
   "codemirror_mode": {
    "name": "ipython",
    "version": 3
   },
   "file_extension": ".py",
   "mimetype": "text/x-python",
   "name": "python",
   "nbconvert_exporter": "python",
   "pygments_lexer": "ipython3",
   "version": "3.6.5"
  }
 },
 "nbformat": 4,
 "nbformat_minor": 2
}
